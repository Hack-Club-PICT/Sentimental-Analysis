{
  "nbformat": 4,
  "nbformat_minor": 0,
  "metadata": {
    "colab": {
      "name": "Sentiment_Analysis2.ipynb",
      "provenance": [],
      "collapsed_sections": [],
      "toc_visible": true,
      "mount_file_id": "14c8TZLaYMsnoOGoVyrtxBaaukT56E5BU",
      "authorship_tag": "ABX9TyMHayyX+xWe8Sr75CL8iEqy",
      "include_colab_link": true
    },
    "kernelspec": {
      "name": "python3",
      "display_name": "Python 3"
    }
  },
  "cells": [
    {
      "cell_type": "markdown",
      "metadata": {
        "id": "view-in-github",
        "colab_type": "text"
      },
      "source": [
        "<a href=\"https://colab.research.google.com/github/Akompalwad/Sentimental-Analysis/blob/main/Sentiment_Analysis.ipynb\" target=\"_parent\"><img src=\"https://colab.research.google.com/assets/colab-badge.svg\" alt=\"Open In Colab\"/></a>"
      ]
    },
    {
      "cell_type": "code",
      "metadata": {
        "id": "CI5_XJ8bEP82"
      },
      "source": [
        "import pandas as pd\n",
        "import numpy as np\n",
        "import tensorflow as tf\n",
        "from tensorflow.python.lib.io.tf_record import TFRecordWriter\n",
        "from sklearn.model_selection import train_test_split\n",
        "from textblob import TextBlob\n",
        "import re\n",
        "from nltk.corpus import stopwords\n",
        "from nltk.stem.porter import *\n",
        "from nltk.stem.wordnet import WordNetLemmatizer\n",
        "from sklearn.feature_extraction.text import CountVectorizer, TfidfTransformer\n",
        "from sklearn.linear_model import LogisticRegression\n",
        "from sklearn.svm import LinearSVC\n",
        "from sklearn.pipeline import Pipeline\n",
        "from sklearn.metrics import confusion_matrix, classification_report,accuracy_score"
      ],
      "execution_count": 20,
      "outputs": []
    },
    {
      "cell_type": "code",
      "metadata": {
        "id": "bc9rK36DOLgE",
        "outputId": "1ff77b50-9e4b-4200-f69a-3f22ee4d1c70",
        "colab": {
          "base_uri": "https://localhost:8080/",
          "height": 134
        }
      },
      "source": [
        "# this section is needed only if you get some error in nltk, it wouldnt hurt to\n",
        "# to run it though\n",
        "import nltk\n",
        "nltk.download('punkt')\n",
        "nltk.download('stopwords')\n",
        "nltk.download('wordnet')"
      ],
      "execution_count": 2,
      "outputs": [
        {
          "output_type": "stream",
          "text": [
            "[nltk_data] Downloading package punkt to /root/nltk_data...\n",
            "[nltk_data]   Package punkt is already up-to-date!\n",
            "[nltk_data] Downloading package stopwords to /root/nltk_data...\n",
            "[nltk_data]   Package stopwords is already up-to-date!\n",
            "[nltk_data] Downloading package wordnet to /root/nltk_data...\n",
            "[nltk_data]   Package wordnet is already up-to-date!\n"
          ],
          "name": "stdout"
        },
        {
          "output_type": "execute_result",
          "data": {
            "text/plain": [
              "True"
            ]
          },
          "metadata": {
            "tags": []
          },
          "execution_count": 2
        }
      ]
    },
    {
      "cell_type": "code",
      "metadata": {
        "id": "sP0-OnxVEjub"
      },
      "source": [
        "df = pd.read_csv('/content/drive/My Drive/datasets/train_twitter.csv',sep=\",\",header=0)"
      ],
      "execution_count": 3,
      "outputs": []
    },
    {
      "cell_type": "code",
      "metadata": {
        "id": "dQroMh3PEquV"
      },
      "source": [
        "df = df[['label','tweet']]"
      ],
      "execution_count": 4,
      "outputs": []
    },
    {
      "cell_type": "code",
      "metadata": {
        "id": "J1fG0w1HE3yL",
        "outputId": "748fa7c5-20a2-47d0-8dc9-704f5936d83b",
        "colab": {
          "base_uri": "https://localhost:8080/",
          "height": 195
        }
      },
      "source": [
        "df.head()"
      ],
      "execution_count": 5,
      "outputs": [
        {
          "output_type": "execute_result",
          "data": {
            "text/html": [
              "<div>\n",
              "<style scoped>\n",
              "    .dataframe tbody tr th:only-of-type {\n",
              "        vertical-align: middle;\n",
              "    }\n",
              "\n",
              "    .dataframe tbody tr th {\n",
              "        vertical-align: top;\n",
              "    }\n",
              "\n",
              "    .dataframe thead th {\n",
              "        text-align: right;\n",
              "    }\n",
              "</style>\n",
              "<table border=\"1\" class=\"dataframe\">\n",
              "  <thead>\n",
              "    <tr style=\"text-align: right;\">\n",
              "      <th></th>\n",
              "      <th>label</th>\n",
              "      <th>tweet</th>\n",
              "    </tr>\n",
              "  </thead>\n",
              "  <tbody>\n",
              "    <tr>\n",
              "      <th>0</th>\n",
              "      <td>0</td>\n",
              "      <td>@user when a father is dysfunctional and is s...</td>\n",
              "    </tr>\n",
              "    <tr>\n",
              "      <th>1</th>\n",
              "      <td>0</td>\n",
              "      <td>@user @user thanks for #lyft credit i can't us...</td>\n",
              "    </tr>\n",
              "    <tr>\n",
              "      <th>2</th>\n",
              "      <td>0</td>\n",
              "      <td>bihday your majesty</td>\n",
              "    </tr>\n",
              "    <tr>\n",
              "      <th>3</th>\n",
              "      <td>0</td>\n",
              "      <td>#model   i love u take with u all the time in ...</td>\n",
              "    </tr>\n",
              "    <tr>\n",
              "      <th>4</th>\n",
              "      <td>0</td>\n",
              "      <td>factsguide: society now    #motivation</td>\n",
              "    </tr>\n",
              "  </tbody>\n",
              "</table>\n",
              "</div>"
            ],
            "text/plain": [
              "   label                                              tweet\n",
              "0      0   @user when a father is dysfunctional and is s...\n",
              "1      0  @user @user thanks for #lyft credit i can't us...\n",
              "2      0                                bihday your majesty\n",
              "3      0  #model   i love u take with u all the time in ...\n",
              "4      0             factsguide: society now    #motivation"
            ]
          },
          "metadata": {
            "tags": []
          },
          "execution_count": 5
        }
      ]
    },
    {
      "cell_type": "code",
      "metadata": {
        "id": "W3RVreWoFZwa",
        "outputId": "2f6af045-f4ac-4eda-d595-72f833b40179",
        "colab": {
          "base_uri": "https://localhost:8080/",
          "height": 67
        }
      },
      "source": [
        "#This tells us about the distribution of data\n",
        "df.label.value_counts()"
      ],
      "execution_count": 6,
      "outputs": [
        {
          "output_type": "execute_result",
          "data": {
            "text/plain": [
              "0    29720\n",
              "1     2242\n",
              "Name: label, dtype: int64"
            ]
          },
          "metadata": {
            "tags": []
          },
          "execution_count": 6
        }
      ]
    },
    {
      "cell_type": "markdown",
      "metadata": {
        "id": "iTHiJOpuGIeJ"
      },
      "source": [
        "**It can be seen that the data is highly imbalanced and number of positive tweets\n",
        "is too high than number of negative tweets\n",
        "For a good deep learning model it is really helpful when both the tweets are balanced.\n",
        "  It is highly important that the data is not skewed.**"
      ]
    },
    {
      "cell_type": "code",
      "metadata": {
        "id": "q3K-UoKdFl1d"
      },
      "source": [
        "df_positive = df[df['label']==0]\n",
        "df_negative = df[df['label']==1]"
      ],
      "execution_count": 7,
      "outputs": []
    },
    {
      "cell_type": "code",
      "metadata": {
        "id": "U4PWfAKxG_rS",
        "outputId": "f04639ef-dac7-454d-81f6-9b26ebc95b8d",
        "colab": {
          "base_uri": "https://localhost:8080/",
          "height": 50
        }
      },
      "source": [
        "df_train_positive = df_positive.sample(7000)\n",
        "df_train_negative = df_negative\n",
        "print(\"Train positive shape\",df_train_positive.shape)\n",
        "print(\"Train negative shape\",df_train_negative.shape)"
      ],
      "execution_count": 126,
      "outputs": [
        {
          "output_type": "stream",
          "text": [
            "Train positive shape (7000, 2)\n",
            "Train negative shape (2242, 2)\n"
          ],
          "name": "stdout"
        }
      ]
    },
    {
      "cell_type": "code",
      "metadata": {
        "id": "o4L3lkiUHDi9",
        "outputId": "b867dd62-0e4e-49a2-cbc9-d6ec22202ba5",
        "colab": {
          "base_uri": "https://localhost:8080/",
          "height": 246
        }
      },
      "source": [
        "train_df = pd.concat([df_train_positive,df_train_negative])\n",
        "print(train_df.shape)\n",
        "print(\"\\n\")\n",
        "train_df.head()"
      ],
      "execution_count": 127,
      "outputs": [
        {
          "output_type": "stream",
          "text": [
            "(9242, 2)\n",
            "\n",
            "\n"
          ],
          "name": "stdout"
        },
        {
          "output_type": "execute_result",
          "data": {
            "text/html": [
              "<div>\n",
              "<style scoped>\n",
              "    .dataframe tbody tr th:only-of-type {\n",
              "        vertical-align: middle;\n",
              "    }\n",
              "\n",
              "    .dataframe tbody tr th {\n",
              "        vertical-align: top;\n",
              "    }\n",
              "\n",
              "    .dataframe thead th {\n",
              "        text-align: right;\n",
              "    }\n",
              "</style>\n",
              "<table border=\"1\" class=\"dataframe\">\n",
              "  <thead>\n",
              "    <tr style=\"text-align: right;\">\n",
              "      <th></th>\n",
              "      <th>label</th>\n",
              "      <th>tweet</th>\n",
              "    </tr>\n",
              "  </thead>\n",
              "  <tbody>\n",
              "    <tr>\n",
              "      <th>4802</th>\n",
              "      <td>0</td>\n",
              "      <td>the sad moment when you walk into a bookstore ...</td>\n",
              "    </tr>\n",
              "    <tr>\n",
              "      <th>25165</th>\n",
              "      <td>0</td>\n",
              "      <td>@user aren't #boiledpeanuts green when @user c...</td>\n",
              "    </tr>\n",
              "    <tr>\n",
              "      <th>28995</th>\n",
              "      <td>0</td>\n",
              "      <td>best essential oils for #healing!!    #altways...</td>\n",
              "    </tr>\n",
              "    <tr>\n",
              "      <th>13840</th>\n",
              "      <td>0</td>\n",
              "      <td>@user   bihday haryana clpleader</td>\n",
              "    </tr>\n",
              "    <tr>\n",
              "      <th>4494</th>\n",
              "      <td>0</td>\n",
              "      <td>on the train to nyc!! then virginia! ðð ...</td>\n",
              "    </tr>\n",
              "  </tbody>\n",
              "</table>\n",
              "</div>"
            ],
            "text/plain": [
              "       label                                              tweet\n",
              "4802       0  the sad moment when you walk into a bookstore ...\n",
              "25165      0  @user aren't #boiledpeanuts green when @user c...\n",
              "28995      0  best essential oils for #healing!!    #altways...\n",
              "13840      0                  @user   bihday haryana clpleader \n",
              "4494       0  on the train to nyc!! then virginia! ð\n",
              "ð\n",
              " ..."
            ]
          },
          "metadata": {
            "tags": []
          },
          "execution_count": 127
        }
      ]
    },
    {
      "cell_type": "code",
      "metadata": {
        "id": "OlqIR2fKhPVq",
        "outputId": "cf1cc0a3-6d9c-4310-dae7-4c751a1e4973",
        "colab": {
          "base_uri": "https://localhost:8080/",
          "height": 195
        }
      },
      "source": [
        "train_df['tweet_n'] = train_df['tweet'].apply(lambda x:x.split())\n",
        "train_df.head()"
      ],
      "execution_count": 128,
      "outputs": [
        {
          "output_type": "execute_result",
          "data": {
            "text/html": [
              "<div>\n",
              "<style scoped>\n",
              "    .dataframe tbody tr th:only-of-type {\n",
              "        vertical-align: middle;\n",
              "    }\n",
              "\n",
              "    .dataframe tbody tr th {\n",
              "        vertical-align: top;\n",
              "    }\n",
              "\n",
              "    .dataframe thead th {\n",
              "        text-align: right;\n",
              "    }\n",
              "</style>\n",
              "<table border=\"1\" class=\"dataframe\">\n",
              "  <thead>\n",
              "    <tr style=\"text-align: right;\">\n",
              "      <th></th>\n",
              "      <th>label</th>\n",
              "      <th>tweet</th>\n",
              "      <th>tweet_n</th>\n",
              "    </tr>\n",
              "  </thead>\n",
              "  <tbody>\n",
              "    <tr>\n",
              "      <th>4802</th>\n",
              "      <td>0</td>\n",
              "      <td>the sad moment when you walk into a bookstore ...</td>\n",
              "      <td>[the, sad, moment, when, you, walk, into, a, b...</td>\n",
              "    </tr>\n",
              "    <tr>\n",
              "      <th>25165</th>\n",
              "      <td>0</td>\n",
              "      <td>@user aren't #boiledpeanuts green when @user c...</td>\n",
              "      <td>[@user, aren't, #boiledpeanuts, green, when, @...</td>\n",
              "    </tr>\n",
              "    <tr>\n",
              "      <th>28995</th>\n",
              "      <td>0</td>\n",
              "      <td>best essential oils for #healing!!    #altways...</td>\n",
              "      <td>[best, essential, oils, for, #healing!!, #altw...</td>\n",
              "    </tr>\n",
              "    <tr>\n",
              "      <th>13840</th>\n",
              "      <td>0</td>\n",
              "      <td>@user   bihday haryana clpleader</td>\n",
              "      <td>[@user, bihday, haryana, clpleader]</td>\n",
              "    </tr>\n",
              "    <tr>\n",
              "      <th>4494</th>\n",
              "      <td>0</td>\n",
              "      <td>on the train to nyc!! then virginia! ðð ...</td>\n",
              "      <td>[on, the, train, to, nyc!!, then, virginia!, ð...</td>\n",
              "    </tr>\n",
              "  </tbody>\n",
              "</table>\n",
              "</div>"
            ],
            "text/plain": [
              "       label  ...                                            tweet_n\n",
              "4802       0  ...  [the, sad, moment, when, you, walk, into, a, b...\n",
              "25165      0  ...  [@user, aren't, #boiledpeanuts, green, when, @...\n",
              "28995      0  ...  [best, essential, oils, for, #healing!!, #altw...\n",
              "13840      0  ...                [@user, bihday, haryana, clpleader]\n",
              "4494       0  ...  [on, the, train, to, nyc!!, then, virginia!, ð...\n",
              "\n",
              "[5 rows x 3 columns]"
            ]
          },
          "metadata": {
            "tags": []
          },
          "execution_count": 128
        }
      ]
    },
    {
      "cell_type": "code",
      "metadata": {
        "id": "V_7ee9ZJhzuM",
        "outputId": "a7ca0604-7820-41ba-9bcb-c06901d0dd3b",
        "colab": {
          "base_uri": "https://localhost:8080/",
          "height": 195
        }
      },
      "source": [
        "stemmer = PorterStemmer()\n",
        "train_df['tweet_n']= train_df['tweet_n'].apply(lambda x:[stemmer.stem(i) for i in x])\n",
        "train_df.head()"
      ],
      "execution_count": 129,
      "outputs": [
        {
          "output_type": "execute_result",
          "data": {
            "text/html": [
              "<div>\n",
              "<style scoped>\n",
              "    .dataframe tbody tr th:only-of-type {\n",
              "        vertical-align: middle;\n",
              "    }\n",
              "\n",
              "    .dataframe tbody tr th {\n",
              "        vertical-align: top;\n",
              "    }\n",
              "\n",
              "    .dataframe thead th {\n",
              "        text-align: right;\n",
              "    }\n",
              "</style>\n",
              "<table border=\"1\" class=\"dataframe\">\n",
              "  <thead>\n",
              "    <tr style=\"text-align: right;\">\n",
              "      <th></th>\n",
              "      <th>label</th>\n",
              "      <th>tweet</th>\n",
              "      <th>tweet_n</th>\n",
              "    </tr>\n",
              "  </thead>\n",
              "  <tbody>\n",
              "    <tr>\n",
              "      <th>4802</th>\n",
              "      <td>0</td>\n",
              "      <td>the sad moment when you walk into a bookstore ...</td>\n",
              "      <td>[the, sad, moment, when, you, walk, into, a, b...</td>\n",
              "    </tr>\n",
              "    <tr>\n",
              "      <th>25165</th>\n",
              "      <td>0</td>\n",
              "      <td>@user aren't #boiledpeanuts green when @user c...</td>\n",
              "      <td>[@user, aren't, #boiledpeanut, green, when, @u...</td>\n",
              "    </tr>\n",
              "    <tr>\n",
              "      <th>28995</th>\n",
              "      <td>0</td>\n",
              "      <td>best essential oils for #healing!!    #altways...</td>\n",
              "      <td>[best, essenti, oil, for, #healing!!, #altways...</td>\n",
              "    </tr>\n",
              "    <tr>\n",
              "      <th>13840</th>\n",
              "      <td>0</td>\n",
              "      <td>@user   bihday haryana clpleader</td>\n",
              "      <td>[@user, bihday, haryana, clpleader]</td>\n",
              "    </tr>\n",
              "    <tr>\n",
              "      <th>4494</th>\n",
              "      <td>0</td>\n",
              "      <td>on the train to nyc!! then virginia! ðð ...</td>\n",
              "      <td>[on, the, train, to, nyc!!, then, virginia!, ð...</td>\n",
              "    </tr>\n",
              "  </tbody>\n",
              "</table>\n",
              "</div>"
            ],
            "text/plain": [
              "       label  ...                                            tweet_n\n",
              "4802       0  ...  [the, sad, moment, when, you, walk, into, a, b...\n",
              "25165      0  ...  [@user, aren't, #boiledpeanut, green, when, @u...\n",
              "28995      0  ...  [best, essenti, oil, for, #healing!!, #altways...\n",
              "13840      0  ...                [@user, bihday, haryana, clpleader]\n",
              "4494       0  ...  [on, the, train, to, nyc!!, then, virginia!, ð...\n",
              "\n",
              "[5 rows x 3 columns]"
            ]
          },
          "metadata": {
            "tags": []
          },
          "execution_count": 129
        }
      ]
    },
    {
      "cell_type": "code",
      "metadata": {
        "id": "_wNWmnWNiVpa",
        "outputId": "a6ce0b66-8a1a-4a52-d6c8-1f9078bd3d0c",
        "colab": {
          "base_uri": "https://localhost:8080/",
          "height": 195
        }
      },
      "source": [
        "train_df['tweet_n'] = train_df['tweet_n'].apply(lambda x:str(\" \".join(i for i in x)))\n",
        "train_df.head()"
      ],
      "execution_count": 130,
      "outputs": [
        {
          "output_type": "execute_result",
          "data": {
            "text/html": [
              "<div>\n",
              "<style scoped>\n",
              "    .dataframe tbody tr th:only-of-type {\n",
              "        vertical-align: middle;\n",
              "    }\n",
              "\n",
              "    .dataframe tbody tr th {\n",
              "        vertical-align: top;\n",
              "    }\n",
              "\n",
              "    .dataframe thead th {\n",
              "        text-align: right;\n",
              "    }\n",
              "</style>\n",
              "<table border=\"1\" class=\"dataframe\">\n",
              "  <thead>\n",
              "    <tr style=\"text-align: right;\">\n",
              "      <th></th>\n",
              "      <th>label</th>\n",
              "      <th>tweet</th>\n",
              "      <th>tweet_n</th>\n",
              "    </tr>\n",
              "  </thead>\n",
              "  <tbody>\n",
              "    <tr>\n",
              "      <th>4802</th>\n",
              "      <td>0</td>\n",
              "      <td>the sad moment when you walk into a bookstore ...</td>\n",
              "      <td>the sad moment when you walk into a bookstor a...</td>\n",
              "    </tr>\n",
              "    <tr>\n",
              "      <th>25165</th>\n",
              "      <td>0</td>\n",
              "      <td>@user aren't #boiledpeanuts green when @user c...</td>\n",
              "      <td>@user aren't #boiledpeanut green when @user co...</td>\n",
              "    </tr>\n",
              "    <tr>\n",
              "      <th>28995</th>\n",
              "      <td>0</td>\n",
              "      <td>best essential oils for #healing!!    #altways...</td>\n",
              "      <td>best essenti oil for #healing!! #altwaystoh #h...</td>\n",
              "    </tr>\n",
              "    <tr>\n",
              "      <th>13840</th>\n",
              "      <td>0</td>\n",
              "      <td>@user   bihday haryana clpleader</td>\n",
              "      <td>@user bihday haryana clpleader</td>\n",
              "    </tr>\n",
              "    <tr>\n",
              "      <th>4494</th>\n",
              "      <td>0</td>\n",
              "      <td>on the train to nyc!! then virginia! ðð ...</td>\n",
              "      <td>on the train to nyc!! then virginia! ð ð #...</td>\n",
              "    </tr>\n",
              "  </tbody>\n",
              "</table>\n",
              "</div>"
            ],
            "text/plain": [
              "       label  ...                                            tweet_n\n",
              "4802       0  ...  the sad moment when you walk into a bookstor a...\n",
              "25165      0  ...  @user aren't #boiledpeanut green when @user co...\n",
              "28995      0  ...  best essenti oil for #healing!! #altwaystoh #h...\n",
              "13840      0  ...                     @user bihday haryana clpleader\n",
              "4494       0  ...  on the train to nyc!! then virginia! ð ð #...\n",
              "\n",
              "[5 rows x 3 columns]"
            ]
          },
          "metadata": {
            "tags": []
          },
          "execution_count": 130
        }
      ]
    },
    {
      "cell_type": "code",
      "metadata": {
        "id": "Kia0QxhNM4gI"
      },
      "source": [
        "def text_processing(tweet):\n",
        "    \n",
        "    #Generating the list of words in the tweet (hastags and other punctuations removed)\n",
        "    def form_sentence(tweet):\n",
        "        tweet_blob = TextBlob(tweet)\n",
        "        return ' '.join(tweet_blob.words)\n",
        "    new_tweet = form_sentence(tweet)\n",
        "    \n",
        "    #Removing stopwords and words with unusual symbols\n",
        "    def no_user_alpha(tweet):\n",
        "        tweet_list = [ele for ele in tweet.split() if ele != 'user']\n",
        "        clean_tokens = [t for t in tweet_list if re.match(r'[^\\W\\d]*$', t)]\n",
        "        clean_s = ' '.join(clean_tokens)\n",
        "        clean_mess = [word for word in clean_s.split() if word.lower() not in stopwords.words('english')]\n",
        "        return clean_mess\n",
        "    no_punc_tweet = no_user_alpha(new_tweet)\n",
        "    \n",
        "    #Normalizing the words in tweets \n",
        "    def normalization(tweet_list):\n",
        "        lem = WordNetLemmatizer()\n",
        "        normalized_tweet = []\n",
        "        for word in tweet_list:\n",
        "            normalized_text = lem.lemmatize(word,'v')\n",
        "            normalized_tweet.append(normalized_text)\n",
        "        return normalized_tweet\n",
        "    \n",
        "    \n",
        "    return normalization(no_punc_tweet)"
      ],
      "execution_count": 131,
      "outputs": []
    },
    {
      "cell_type": "code",
      "metadata": {
        "id": "lsA_0q25IMkC"
      },
      "source": [
        "x_train,x_test,y_train,y_test = train_test_split(train_df['tweet_n'],train_df['label'],test_size = 0.2,random_state = 14)"
      ],
      "execution_count": 132,
      "outputs": []
    },
    {
      "cell_type": "code",
      "metadata": {
        "id": "nQjrPlZ4NYno",
        "outputId": "bfe4f9d3-7bf5-4bc1-a2ef-1e91c0fa9183",
        "colab": {
          "base_uri": "https://localhost:8080/",
          "height": 386
        }
      },
      "source": [
        "#Machine Learning Pipeline\n",
        "pipeline = Pipeline([\n",
        "    ('bow',CountVectorizer(analyzer=text_processing)),  # strings to token integer counts\n",
        "    ('tfidf', TfidfTransformer()),  # integer counts to weighted TF-IDF scores\n",
        "    ('classifier', LogisticRegression(solver='liblinear')),  # train on logistic regression model\n",
        "])\n",
        "pipeline.fit(x_train,y_train)"
      ],
      "execution_count": 133,
      "outputs": [
        {
          "output_type": "execute_result",
          "data": {
            "text/plain": [
              "Pipeline(memory=None,\n",
              "         steps=[('bow',\n",
              "                 CountVectorizer(analyzer=<function text_processing at 0x7f0868a056a8>,\n",
              "                                 binary=False, decode_error='strict',\n",
              "                                 dtype=<class 'numpy.int64'>, encoding='utf-8',\n",
              "                                 input='content', lowercase=True, max_df=1.0,\n",
              "                                 max_features=None, min_df=1,\n",
              "                                 ngram_range=(1, 1), preprocessor=None,\n",
              "                                 stop_words=None, strip_accents=None,\n",
              "                                 token_pattern='(?u)\\\\b\\\\w\\\\w+...\n",
              "                ('tfidf',\n",
              "                 TfidfTransformer(norm='l2', smooth_idf=True,\n",
              "                                  sublinear_tf=False, use_idf=True)),\n",
              "                ('classifier',\n",
              "                 LogisticRegression(C=1.0, class_weight=None, dual=False,\n",
              "                                    fit_intercept=True, intercept_scaling=1,\n",
              "                                    l1_ratio=None, max_iter=100,\n",
              "                                    multi_class='auto', n_jobs=None,\n",
              "                                    penalty='l2', random_state=None,\n",
              "                                    solver='liblinear', tol=0.0001, verbose=0,\n",
              "                                    warm_start=False))],\n",
              "         verbose=False)"
            ]
          },
          "metadata": {
            "tags": []
          },
          "execution_count": 133
        }
      ]
    },
    {
      "cell_type": "markdown",
      "metadata": {
        "id": "aQz85T2Fcl0X"
      },
      "source": [
        "![image.png](data:image/png;base64,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)"
      ]
    },
    {
      "cell_type": "code",
      "metadata": {
        "id": "HowEtqFKOFrk",
        "outputId": "42cdbf3e-b1f2-45ab-e147-9341a374233f",
        "colab": {
          "base_uri": "https://localhost:8080/",
          "height": 252
        }
      },
      "source": [
        "predictions = pipeline.predict(x_test)\n",
        "\n",
        "print(classification_report(predictions,y_test))\n",
        "print ('\\n')\n",
        "print(confusion_matrix(predictions,y_test))\n",
        "print(accuracy_score(predictions,y_test))"
      ],
      "execution_count": 134,
      "outputs": [
        {
          "output_type": "stream",
          "text": [
            "              precision    recall  f1-score   support\n",
            "\n",
            "           0       0.99      0.88      0.93      1596\n",
            "           1       0.54      0.92      0.68       253\n",
            "\n",
            "    accuracy                           0.88      1849\n",
            "   macro avg       0.76      0.90      0.81      1849\n",
            "weighted avg       0.92      0.88      0.89      1849\n",
            "\n",
            "\n",
            "\n",
            "[[1401  195]\n",
            " [  21  232]]\n",
            "0.8831800973499189\n"
          ],
          "name": "stdout"
        }
      ]
    },
    {
      "cell_type": "code",
      "metadata": {
        "id": "ljfqnfxWPEwT",
        "outputId": "66dd91f4-25d5-406d-d92c-b73b65fb1e4e",
        "colab": {
          "base_uri": "https://localhost:8080/",
          "height": 195
        }
      },
      "source": [
        "test_data = pd.read_csv('/content/drive/My Drive/datasets/test_tweets.csv')\n",
        "test_data.head()"
      ],
      "execution_count": 135,
      "outputs": [
        {
          "output_type": "execute_result",
          "data": {
            "text/html": [
              "<div>\n",
              "<style scoped>\n",
              "    .dataframe tbody tr th:only-of-type {\n",
              "        vertical-align: middle;\n",
              "    }\n",
              "\n",
              "    .dataframe tbody tr th {\n",
              "        vertical-align: top;\n",
              "    }\n",
              "\n",
              "    .dataframe thead th {\n",
              "        text-align: right;\n",
              "    }\n",
              "</style>\n",
              "<table border=\"1\" class=\"dataframe\">\n",
              "  <thead>\n",
              "    <tr style=\"text-align: right;\">\n",
              "      <th></th>\n",
              "      <th>id</th>\n",
              "      <th>tweet</th>\n",
              "    </tr>\n",
              "  </thead>\n",
              "  <tbody>\n",
              "    <tr>\n",
              "      <th>0</th>\n",
              "      <td>31963</td>\n",
              "      <td>#studiolife #aislife #requires #passion #dedic...</td>\n",
              "    </tr>\n",
              "    <tr>\n",
              "      <th>1</th>\n",
              "      <td>31964</td>\n",
              "      <td>@user #white #supremacists want everyone to s...</td>\n",
              "    </tr>\n",
              "    <tr>\n",
              "      <th>2</th>\n",
              "      <td>31965</td>\n",
              "      <td>safe ways to heal your #acne!!    #altwaystohe...</td>\n",
              "    </tr>\n",
              "    <tr>\n",
              "      <th>3</th>\n",
              "      <td>31966</td>\n",
              "      <td>is the hp and the cursed child book up for res...</td>\n",
              "    </tr>\n",
              "    <tr>\n",
              "      <th>4</th>\n",
              "      <td>31967</td>\n",
              "      <td>3rd #bihday to my amazing, hilarious #nephew...</td>\n",
              "    </tr>\n",
              "  </tbody>\n",
              "</table>\n",
              "</div>"
            ],
            "text/plain": [
              "      id                                              tweet\n",
              "0  31963  #studiolife #aislife #requires #passion #dedic...\n",
              "1  31964   @user #white #supremacists want everyone to s...\n",
              "2  31965  safe ways to heal your #acne!!    #altwaystohe...\n",
              "3  31966  is the hp and the cursed child book up for res...\n",
              "4  31967    3rd #bihday to my amazing, hilarious #nephew..."
            ]
          },
          "metadata": {
            "tags": []
          },
          "execution_count": 135
        }
      ]
    },
    {
      "cell_type": "code",
      "metadata": {
        "id": "AbkLSr3G1wXM"
      },
      "source": [
        "test_data['tweet'] = test_data['tweet'] .apply(lambda x:x.split())\n",
        "test_data['tweet']= test_data['tweet'].apply(lambda x:[stemmer.stem(i) for i in x])\n",
        "test_data['tweet'] = test_data['tweet'].apply(lambda x:str(\" \".join(i for i in x)))"
      ],
      "execution_count": 136,
      "outputs": []
    },
    {
      "cell_type": "code",
      "metadata": {
        "id": "obu9F7LYP7M9"
      },
      "source": [
        "result = pipeline.predict(test_data['tweet'])\n",
        "result_df = pd.DataFrame(result)"
      ],
      "execution_count": 137,
      "outputs": []
    },
    {
      "cell_type": "code",
      "metadata": {
        "id": "utVo084JQh8N"
      },
      "source": [
        "result_df.to_csv('result13.csv')"
      ],
      "execution_count": 138,
      "outputs": []
    },
    {
      "cell_type": "code",
      "metadata": {
        "id": "Q2oByLNrRS9l"
      },
      "source": [
        "# The above submission gives 0.62 F1 score on the test dataset of Analytics Vidhya"
      ],
      "execution_count": null,
      "outputs": []
    }
  ]
}
